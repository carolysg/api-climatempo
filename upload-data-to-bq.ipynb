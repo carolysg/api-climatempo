{
 "cells": [
  {
   "cell_type": "markdown",
   "metadata": {},
   "source": [
    "## Upload dos dados para o BigQuery"
   ]
  },
  {
   "cell_type": "markdown",
   "metadata": {},
   "source": [
    "### Cloud Function"
   ]
  },
  {
   "cell_type": "markdown",
   "metadata": {},
   "source": [
    "Dataframe de valores reais"
   ]
  },
  {
   "cell_type": "code",
   "execution_count": null,
   "metadata": {},
   "outputs": [],
   "source": [
    "# REQUIREMENTS\n",
    "# functions-framework==3.*\n",
    "# google-cloud-bigquery==3.11.2\n",
    "# pandas==2.0.2\n",
    "# pyarrow==12.0.1\n",
    "# gcsfs==2023.6.0"
   ]
  },
  {
   "cell_type": "code",
   "execution_count": null,
   "metadata": {},
   "outputs": [],
   "source": [
    "import functions_framework\n",
    "from google.cloud import bigquery\n",
    "import pandas as pd\n",
    "import gcsfs\n",
    "\n",
    "# Triggered from a message on a Cloud Pub/Sub topic.\n",
    "@functions_framework.cloud_event\n",
    "def upload_real_sao_carlos_weather(cloud_event=None):\n",
    "\n",
    "    bucket_name = cloud_event.data['message']['attributes']['bucketId']\n",
    "    obj = cloud_event.data['message']['attributes']['objectId']\n",
    "    uri = 'gs://' + bucket_name + '/' + obj\n",
    "\n",
    "    # If for some reason function is triggered with another file abort\n",
    "    if 'silver/real/real-sao-carlos' not in obj:\n",
    "        print('Not the expected file')\n",
    "        return {'Message': 'Not the expected file'}\n",
    "    \n",
    "    table_id = 'previsao-tempo-402114.dados_clima.tempo_real'\n",
    "    df = pd.read_csv(uri)\n",
    "\n",
    "    client = bigquery.Client()\n",
    "\n",
    "    job_config = bigquery.LoadJobConfig(\n",
    "        schema=[\n",
    "          bigquery.SchemaField('temperature', bigquery.enums.SqlTypeNames.FLOAT),\n",
    "          bigquery.SchemaField('description', bigquery.enums.SqlTypeNames.STRING),\n",
    "          bigquery.SchemaField('humidity', bigquery.enums.SqlTypeNames.FLOAT),\n",
    "          bigquery.SchemaField('cloudiness', bigquery.enums.SqlTypeNames.FLOAT),\n",
    "          bigquery.SchemaField('rain', bigquery.enums.SqlTypeNames.FLOAT),\n",
    "          bigquery.SchemaField('wind_speedy', bigquery.enums.SqlTypeNames.FLOAT, description='km/h'),\n",
    "          bigquery.SchemaField('datetime', bigquery.enums.SqlTypeNames.DATETIME)\n",
    "        ],\n",
    "        write_disposition='WRITE_APPEND',\n",
    "        autodetect=False,\n",
    "        source_format=bigquery.SourceFormat.CSV\n",
    "    )\n",
    "\n",
    "    job = client.load_table_from_dataframe(df, table_id, job_config=job_config)\n",
    "\n",
    "    return None\n"
   ]
  },
  {
   "cell_type": "code",
   "execution_count": null,
   "metadata": {},
   "outputs": [],
   "source": [
    "# gcloud storage buckets notifications create gs://dados-api --topic=upload-real-data-to-bq --event-types=OBJECT_FINALIZE --object-prefix=silver/real/real-sao-carlos"
   ]
  },
  {
   "cell_type": "markdown",
   "metadata": {},
   "source": [
    "Dataframe de valores previstos"
   ]
  },
  {
   "cell_type": "code",
   "execution_count": null,
   "metadata": {},
   "outputs": [],
   "source": [
    "# REQUIREMENTS\n",
    "# functions-framework==3.*\n",
    "# google-cloud-bigquery==3.11.2\n",
    "# pandas==2.0.2\n",
    "# pyarrow==12.0.1\n",
    "# gcsfs==2023.6.0"
   ]
  },
  {
   "cell_type": "code",
   "execution_count": null,
   "metadata": {},
   "outputs": [],
   "source": [
    "import functions_framework\n",
    "from google.cloud import bigquery\n",
    "import pandas as pd\n",
    "import gcsfs\n",
    "\n",
    "# Triggered from a message on a Cloud Pub/Sub topic.\n",
    "@functions_framework.cloud_event\n",
    "def upload_forecast_sao_carlos_weather(cloud_event=None):\n",
    "\n",
    "    bucket_name = cloud_event.data['message']['attributes']['bucketId']\n",
    "    obj = cloud_event.data['message']['attributes']['objectId']\n",
    "    uri = 'gs://' + bucket_name + '/' + obj\n",
    "\n",
    "    # If for some reason function is triggered with another file abort\n",
    "    if 'silver/forecast/forecast-sao-carlos' not in obj:\n",
    "        print('Not the expected file')\n",
    "        return {'Message': 'Not the expected file'}\n",
    "    \n",
    "    table_id = 'previsao-tempo-402114.dados_clima.tempo_forecast'\n",
    "    df = pd.read_csv(uri)\n",
    "\n",
    "    client = bigquery.Client()\n",
    "\n",
    "    job_config = bigquery.LoadJobConfig(\n",
    "        schema=[\n",
    "          bigquery.SchemaField('real_date', bigquery.enums.SqlTypeNames.DATE),\n",
    "          bigquery.SchemaField('date', bigquery.enums.SqlTypeNames.DATE),\n",
    "          bigquery.SchemaField('max_temperature', bigquery.enums.SqlTypeNames.FLOAT),\n",
    "          bigquery.SchemaField('min_temperature', bigquery.enums.SqlTypeNames.FLOAT),\n",
    "          bigquery.SchemaField('cloudiness', bigquery.enums.SqlTypeNames.FLOAT),\n",
    "          bigquery.SchemaField('rain', bigquery.enums.SqlTypeNames.FLOAT),\n",
    "          bigquery.SchemaField('rain_probability', bigquery.enums.SqlTypeNames.FLOAT),\n",
    "          bigquery.SchemaField('wind_speedy', bigquery.enums.SqlTypeNames.FLOAT, description='km/h'),\n",
    "          bigquery.SchemaField('description', bigquery.enums.SqlTypeNames.STRING),\n",
    "          bigquery.SchemaField('condition', bigquery.enums.SqlTypeNames.STRING)\n",
    "        ],\n",
    "        write_disposition='WRITE_APPEND',\n",
    "        autodetect=False,\n",
    "        source_format=bigquery.SourceFormat.CSV\n",
    "    )\n",
    "\n",
    "    job = client.load_table_from_dataframe(df, table_id, job_config=job_config)\n",
    "\n",
    "    return None"
   ]
  },
  {
   "cell_type": "code",
   "execution_count": null,
   "metadata": {},
   "outputs": [],
   "source": [
    "# gcloud storage buckets notifications create gs://dados-api --topic=upload-forecast-data-to-bq --event-types=OBJECT_FINALIZE --object-prefix=silver/forecast/forecast-sao-carlos"
   ]
  }
 ],
 "metadata": {
  "language_info": {
   "name": "python"
  }
 },
 "nbformat": 4,
 "nbformat_minor": 2
}
